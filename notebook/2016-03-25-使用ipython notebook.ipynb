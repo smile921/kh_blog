{
 "cells": [
  {
   "cell_type": "markdown",
   "metadata": {
    "slideshow": {
     "slide_type": "slide"
    }
   },
   "source": [
    "---\n",
    "title:  使用ipython notebook 及其一些杂记!\n",
    "date:   2016-03-25 11:52:38\n",
    "categories: 笔记,Awesome \n",
    "---\n",
    "\n",
    "# 使用ipython notebook 及其一些杂记!"
   ]
  },
  {
   "cell_type": "markdown",
   "metadata": {
    "slideshow": {
     "slide_type": "slide"
    }
   },
   "source": [
    "\n",
    "### 初学者CSS 小技巧\n",
    "设置圆角block代码块儿\n",
    "\n",
    "~~~~ css\n",
    "pre {   \n",
    "    font-family: Consolas, Monaco, 'Andale Mono', monospace;\n",
    "    -moz-border-radius: 1em;\n",
    "    -webkit-border-radius: 1em;\n",
    "    border-radius: 1em;\n",
    "\t}\n",
    "~~~~\n",
    "\n",
    "设置链接的鼠标为十字星型\n",
    "\n",
    "~~~~ css\n",
    "a {\n",
    "     cursor: crosshair;   \n",
    "}\n",
    "~~~~"
   ]
  },
  {
   "cell_type": "markdown",
   "metadata": {
    "slideshow": {
     "slide_type": "slide"
    }
   },
   "source": [
    "### 初学使用docker记录\n",
    "\n",
    "* 启动\n",
    "~~~~ bash\n",
    "sudo docker run -it --name openresty -p 8001:8001 -v ~/Projects/Nginx_Lua:/tmp 10.88.1.229:5000/centos-openresty /bin/bash\n",
    "~~~~\n",
    "\n",
    "* 退出 ctrl p ctrl q\n",
    "\n",
    "* 再次连接上\n",
    "sudo docker attach openresty\n",
    "* 彻底停止\n",
    "sudo docker stop <9951920216ee>\n",
    "* 再次运行\n",
    "sudo docker start <9951920216ee>\n",
    "* 删除\n",
    "sudo docker rm <9951920216ee>\n",
    "* 删除image\n",
    "sudo docker rmi <image id>\n",
    "\n",
    "<br> <br>\n",
    "* #### 实例\n",
    "* sudo docker run -it --name openresty -p 8001:8001 -v /home/zjex/zjex-projects/zjex-nginx/:/tmp 10.88.1.229:5000/centos-openresty /bin/bash"
   ]
  },
  {
   "cell_type": "markdown",
   "metadata": {
    "slideshow": {
     "slide_type": "slide"
    }
   },
   "source": [
    "## Docker Registry\n",
    "1. .使用registry启动私有仓库的容器\n",
    "~~~~ bash\n",
    "docker run -d -e SETTINGS_FLAVOR=dev -e STORAGE_PATH=/tmp/registry -v /opt/data/registry:/tmp/registry  -p 5000:5000 registry\n",
    "~~~~\n",
    "说明：若之前没有安装registry容器则会自动下载并启动一个registry容器，创建本地的私有仓库服务。默认情况下，会将仓库创建在容器的/tmp/registry目录下，可以通过 -v 参数来将镜像文件存放在本地的指定路径上（例如，放在本地目录/opt/data/registry下）。<br>\n",
    "1. ### 推送本地镜像到私有仓库\n",
    "##### 给container取另外一个名字\n",
    "~~~~ bash\n",
    "docker tag 68edf809afe7 10.88.1.229:5000/centos-jdk\n",
    "~~~~\n",
    "##### 最后将新的docker images推送到私服上\n",
    "~~~~ bash\n",
    "docker push 10.88.1.229:5000/centos-jdk\n",
    "~~~~\n",
    "1. ### 私有仓库查询方法\n",
    "~~~~ bash\n",
    "curl -X GET http://10.88.1.229:5000/v1/search\n",
    "~~~~\n",
    "说明：使用curl查看仓库10.88.1.229:5000中的镜像。返回类似如下结果\n",
    "{\"num_results\": 1, \"query\": \"\", \"results\": [{\"description\": \"\", \"name\": \"library/centos-jdk\"}]}\n",
    "1. ### 在其他的机器上访问和下载私有仓库的镜像\n",
    "~~~~ bash\n",
    "docker pull 10.88.1.229:5000/centos-jdk\n",
    "~~~~\n",
    "1. ### docker client的https问题\n",
    "修改Docker配置文件\n",
    "~~~~ bash\n",
    "vim /etc/default/docker\n",
    "~~~~\n",
    "增加以下一行\n",
    "~~~~ bash\n",
    "DOCKER_OPTS=\"$DOCKER_OPTS --insecure-registry=10.88.1.229:5000\"\n",
    "~~~~\n",
    "重启Docker\n",
    "~~~~ bash\n",
    "sudo service docker restart\n",
    "~~~~\n",
    "1. ### To do\n",
    "后续在Registry中加入https\n",
    "参考资料\n",
    "https://segmentfault.com/a/1190000000801162"
   ]
  },
  {
   "cell_type": "markdown",
   "metadata": {
    "slideshow": {
     "slide_type": "slide"
    }
   },
   "source": [
    "<br>\n",
    "### zjex 服务处理尝试\n",
    "* 启动微服务并测试 [http://10.88.1.215:8763/1/pifBorrow/pif/get/b201409041126098830](http://10.88.1.215:8763/1/pifBorrow/pif/get/b201409041126098830)\n",
    "* 启动gateway 通过gateway访问微服务提供的API [http://10.88.1.215:8900/openapi/1/pifBorrow/pif/get/b201409041126098830](http://10.88.1.215:8900/openapi/1/pifBorrow/pif/get/b201409041126098830)\n",
    "* 启动openresty 通过nginx 访问gateway在访问微服务的API [http://10.88.1.215:9988/zjex_rest/1/pifBorrow/pif/get/b201409041126098830](http://10.88.1.215:9988/zjex_rest/1/pifBorrow/pif/get/b201409041126098830)\n",
    "* 启动docker，在docker中启动nginx 在访问微服务[http://10.88.1.227:8001/zjex_rest/1/pifBorrow/pif/get/b201409041126098830](http://10.88.1.227:8001/zjex_rest/1/pifBorrow/pif/get/b201409041126098830)\n",
    "<br>\n",
    "<br>\n",
    "*\n",
    "*\n",
    "* http://127.0.0.1:8763/1/pifBorrow/pif/get/b201409041126098830\n",
    "* http://10.88.1.215:8763/1/pifBorrow/pif/get/b201409041126098830 "
   ]
  },
  {
   "cell_type": "markdown",
   "metadata": {
    "slideshow": {
     "slide_type": "slide"
    }
   },
   "source": [
    "### Let’s Encrypt CA \n",
    "\n",
    "项目，计划为网站提供免费的基本 SSL 证书，以加速互联网从 HTTP 向 HTTPS 过渡。Let’s Encrypt CA 将由非赢利组织 Internet Security Research Group (ISRG) 运营，计划于 2015 年夏天开始向任何需要加密证书的网站自动发放免费的 SSL 证书。\n",
    "\n",
    "\n",
    "部署 HTTPS 的最大障碍是 HTTPS 所需的证书。对很多服务器运行者而言，即便是获取和部署一个基本的服务器证书也是很繁琐的事情，而且费用不低。并且部署过程容易出错，需要升级的时候就更麻烦。Let’s Encrypt 项目的目标就是解决这些问题，将会设计和部署一个协作、免费、开放的系统，让任何有需要的人都可以通过简单的鼠标点击来部署基本的服务器加密证书。\n",
    "\n",
    "Let’s Encrypt 的原则是：\n",
    "\n",
    "* 免费：任何域名所有者都可以零费用申请到一个针对其域名的有效证书。\n",
    "* 自动：整个证书注册过程在服务器安装或配置过程中可以简单实现，而更新过程更是可以在后台自动执行。\n",
    "* 安全：Let’s Encrypt 将会提供业界最新的安全技术和最好的实践。\n",
    "* 透明：所有关于证书发放、撤销的记录都会向任何需要调查的人员开放。\n",
    "* 开放：自动化执行的发放和更新协议将会是开放标准，软件也尽可能使用开源软件。\n",
    "* 合作：与现有的互联网协议本身很相似，Let’s Encrypt 是一个对整个社区都有益的联合行动，不由任何一个组织控制。"
   ]
  },
  {
   "cell_type": "markdown",
   "metadata": {
    "slideshow": {
     "slide_type": "slide"
    }
   },
   "source": [
    "### nbconvert 使用notebook 制作slide\n",
    "\n",
    "发现ipython notebook有着非常吸引人的功能，可以直接在上面编辑markdown文本，直接处理数据，直接显示图形，显示动态图像。\n",
    "\n",
    "另外还可以通过ipython nbconvert的命令将格式转化成html格式，并且仅仅只有单个文件，png文件到哪里去了了，通过base64的方式直接插入在html中了。\n",
    "\n",
    "~~~~ bash\n",
    "jupyter-nbconvert --to slides How-to.ipynb --reveal-prefix '//cdn.bootcss.com/reveal.js/3.2.0' --output slides\n",
    "~~~~\n",
    "..."
   ]
  },
  {
   "cell_type": "code",
   "execution_count": null,
   "metadata": {
    "collapsed": true,
    "slideshow": {
     "slide_type": "skip"
    }
   },
   "outputs": [],
   "source": []
  }
 ],
 "metadata": {
  "celltoolbar": "Slideshow",
  "kernelspec": {
   "display_name": "Python 2",
   "language": "python",
   "name": "python2"
  },
  "language_info": {
   "codemirror_mode": {
    "name": "ipython",
    "version": 2
   },
   "file_extension": ".py",
   "mimetype": "text/x-python",
   "name": "python",
   "nbconvert_exporter": "python",
   "pygments_lexer": "ipython2",
   "version": "2.7.11"
  }
 },
 "nbformat": 4,
 "nbformat_minor": 0
}
